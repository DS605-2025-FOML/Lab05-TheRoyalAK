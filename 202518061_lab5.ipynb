{
 "cells": [
  {
   "cell_type": "markdown",
   "id": "60e33373",
   "metadata": {},
   "source": [
    "## __LAB - 05__\n",
    "#### End-to-End Classification Pipeline\n",
    "__The Challenge:__ Predicting Telecom Customer Churn"
   ]
  },
  {
   "cell_type": "markdown",
   "id": "23fa5cc7",
   "metadata": {},
   "source": [
    "I am using a synthetic dataset named telecom_churn.csv that has the said columns with nan values in many of them."
   ]
  },
  {
   "cell_type": "code",
   "execution_count": null,
   "id": "db9c3168",
   "metadata": {},
   "outputs": [
    {
     "ename": "",
     "evalue": "",
     "output_type": "error",
     "traceback": [
      "\u001b[1;31mFailed to start the Kernel. \n",
      "\u001b[1;31mUnable to start Kernel 'base (Python 3.12.3)' due to a timeout waiting for the ports to get used. \n",
      "\u001b[1;31mView Jupyter <a href='command:jupyter.viewOutput'>log</a> for further details."
     ]
    }
   ],
   "source": [
    "import numpy as np\n",
    "import pandas as pd\n",
    "import matplotlib.pyplot as plt\n",
    "import seaborn as sns"
   ]
  },
  {
   "cell_type": "markdown",
   "id": "13690b70",
   "metadata": {},
   "source": [
    "Now, we will import the csv file"
   ]
  }
 ],
 "metadata": {
  "kernelspec": {
   "display_name": "base",
   "language": "python",
   "name": "python3"
  },
  "language_info": {
   "name": "python",
   "version": "3.12.3"
  }
 },
 "nbformat": 4,
 "nbformat_minor": 5
}
